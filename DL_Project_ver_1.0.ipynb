{
 "cells": [
  {
   "cell_type": "code",
   "execution_count": 1,
   "metadata": {},
   "outputs": [],
   "source": [
    "import torch\n",
    "import torch.nn as nn\n",
    "import torch.nn.functional as F\n",
    "import matplotlib.pyplot as plt\n",
    "import numpy as np\n",
    "import os\n",
    "import time\n",
    "from tqdm import tqdm\n",
    "from glob import glob\n",
    "from sklearn.model_selection import train_test_split\n",
    "from torch.utils.data import Dataset, DataLoader"
   ]
  },
  {
   "cell_type": "code",
   "execution_count": 2,
   "metadata": {},
   "outputs": [
    {
     "name": "stdout",
     "output_type": "stream",
     "text": [
      "/home/jupyter-deeplearning/Organize/data/train\n"
     ]
    }
   ],
   "source": [
    "%cd ./data/train/"
   ]
  },
  {
   "cell_type": "code",
   "execution_count": 3,
   "metadata": {},
   "outputs": [],
   "source": [
    "def data_loader(files):\n",
    "    out = []\n",
    "    for file in tqdm(files):\n",
    "        data = plt.imread(file)\n",
    "        data = data.reshape(-1)\n",
    "        out.append(data)    \n",
    "    out = np.array(out,dtype=np.float32)\n",
    "    return out"
   ]
  },
  {
   "cell_type": "code",
   "execution_count": 4,
   "metadata": {},
   "outputs": [],
   "source": [
    "classes=sorted(glob(\"*\"))"
   ]
  },
  {
   "cell_type": "code",
   "execution_count": 5,
   "metadata": {},
   "outputs": [],
   "source": [
    "data_path=os.path.join(classes[0],\"*.bmp\")\n",
    "data_path=glob(data_path)"
   ]
  },
  {
   "cell_type": "code",
   "execution_count": 6,
   "metadata": {},
   "outputs": [
    {
     "name": "stdout",
     "output_type": "stream",
     "text": [
      "(96, 96, 3)\n"
     ]
    }
   ],
   "source": [
    "image_shape=plt.imread((data_path[0])).shape\n",
    "image_len=plt.imread((data_path[0])).size\n",
    "print(image_shape)"
   ]
  },
  {
   "cell_type": "code",
   "execution_count": 7,
   "metadata": {},
   "outputs": [
    {
     "name": "stderr",
     "output_type": "stream",
     "text": [
      "100%|██████████| 500/500 [00:00<00:00, 8520.40it/s]\n",
      "100%|██████████| 500/500 [00:00<00:00, 9840.61it/s]\n",
      "100%|██████████| 500/500 [00:00<00:00, 9799.91it/s]\n",
      "100%|██████████| 500/500 [00:00<00:00, 9873.41it/s]\n",
      "100%|██████████| 500/500 [00:00<00:00, 9962.95it/s]\n",
      "100%|██████████| 500/500 [00:00<00:00, 9523.03it/s]\n",
      "100%|██████████| 500/500 [00:00<00:00, 9890.59it/s]\n",
      "100%|██████████| 500/500 [00:00<00:00, 9943.77it/s]\n",
      "100%|██████████| 500/500 [00:00<00:00, 9949.62it/s]\n",
      "100%|██████████| 500/500 [00:00<00:00, 9940.38it/s]\n"
     ]
    }
   ],
   "source": [
    "train_data=np.zeros((1,image_len+1))\n",
    "label_match=[]\n",
    "for i,name in enumerate(classes):\n",
    "    data_path=os.path.join(name,\"*.bmp\")\n",
    "    data_path=glob(data_path)\n",
    "    img_data=data_loader(data_path)\n",
    "    img_data=np.insert(img_data, 0, i,axis=1)\n",
    "    train_data=np.vstack([train_data,img_data])\n",
    "    label_match.append([i,name])\n",
    "train_data=np.delete(train_data,0,axis=0)"
   ]
  },
  {
   "cell_type": "code",
   "execution_count": 8,
   "metadata": {},
   "outputs": [
    {
     "name": "stdout",
     "output_type": "stream",
     "text": [
      "[[0, 'airplane'], [1, 'bird'], [2, 'car'], [3, 'cat'], [4, 'deer'], [5, 'dog'], [6, 'horse'], [7, 'monkey'], [8, 'ship'], [9, 'truck']]\n"
     ]
    }
   ],
   "source": [
    "print(label_match)"
   ]
  },
  {
   "cell_type": "code",
   "execution_count": 9,
   "metadata": {},
   "outputs": [
    {
     "data": {
      "text/plain": [
       "array([[  8.,   0.,   0., ...,   0.,   0.,   0.],\n",
       "       [  9., 122., 159., ...,   0.,   0.,   0.],\n",
       "       [  8.,   0.,   0., ...,   0.,   0.,   0.],\n",
       "       ...,\n",
       "       [  9.,   0.,   0., ...,  15.,  16.,  17.],\n",
       "       [  0.,  47.,  45., ..., 184., 151., 123.],\n",
       "       [  2.,  19.,  37., ..., 177., 165., 153.]])"
      ]
     },
     "execution_count": 9,
     "metadata": {},
     "output_type": "execute_result"
    }
   ],
   "source": [
    "# Data shuffle\n",
    "np.take(train_data,np.random.permutation(train_data.shape[0]),\n",
    "        axis=0,out=train_data)"
   ]
  },
  {
   "cell_type": "code",
   "execution_count": 10,
   "metadata": {},
   "outputs": [],
   "source": [
    "x_data=train_data[:,1:]\n",
    "y_data=train_data[:,0]"
   ]
  },
  {
   "cell_type": "code",
   "execution_count": 11,
   "metadata": {},
   "outputs": [],
   "source": [
    "# Data split\n",
    "x_data_train, x_data_test, y_data_train, y_data_test = train_test_split(x_data, y_data, \n",
    "                                                                        test_size=0.2)"
   ]
  },
  {
   "cell_type": "code",
   "execution_count": 12,
   "metadata": {},
   "outputs": [],
   "source": [
    "# Data normalization\n",
    "x_data_train=x_data_train/x_data_train.max()\n",
    "x_data_test=x_data_test/x_data_test.max()"
   ]
  },
  {
   "cell_type": "code",
   "execution_count": 13,
   "metadata": {},
   "outputs": [],
   "source": [
    "class CustomDataset(Dataset):\n",
    "    def __init__(self,x_dat,y_dat):\n",
    "        x = x_dat\n",
    "        y = y_dat\n",
    "        self.len = x.shape[0]\n",
    "        y=y.astype('int')\n",
    "        x=x.astype('float32')\n",
    "        self.x_data = torch.tensor(x)\n",
    "        self.y_data = torch.tensor(y)\n",
    "\n",
    "    def __getitem__(self, index):\n",
    "        return self.x_data[index], self.y_data[index]\n",
    "\n",
    "    def __len__(self):\n",
    "        return self.len"
   ]
  },
  {
   "cell_type": "code",
   "execution_count": 14,
   "metadata": {},
   "outputs": [],
   "source": [
    "batch_size=256\n",
    "num_gpus=4\n",
    "train_dataset = CustomDataset(x_data_train,y_data_train)\n",
    "train_loader = DataLoader(dataset=train_dataset,pin_memory=True,\n",
    "                          batch_size=batch_size,\n",
    "                          shuffle=True,\n",
    "                          num_workers=60,drop_last=True)\n",
    "test_dataset = CustomDataset(x_data_test,y_data_test)\n",
    "test_loader = DataLoader(dataset=test_dataset,pin_memory=True,\n",
    "                          batch_size=batch_size,\n",
    "                          shuffle=True,\n",
    "                          num_workers=60,drop_last=True)"
   ]
  },
  {
   "cell_type": "code",
   "execution_count": 15,
   "metadata": {},
   "outputs": [],
   "source": [
    "class Model(torch.nn.Module):\n",
    "    def __init__(self):\n",
    "        super(Model, self).__init__()\n",
    "        self.layer_1 = nn.Conv2d(in_channels=3,out_channels=64,kernel_size=3,\n",
    "                                 stride=1,padding=2)\n",
    "        self.act_1 = nn.ReLU()\n",
    "        self.conv2_bn1 = nn.BatchNorm2d(64)\n",
    "        \n",
    "        self.layer_2 = nn.Conv2d(in_channels=64,out_channels=64,kernel_size=3,\n",
    "                                 stride=1,padding=2)\n",
    "        self.act_2 = nn.ReLU()\n",
    "        self.conv2_bn2 = nn.BatchNorm2d(64)\n",
    "        \n",
    "        self.layer_3 = nn.Conv2d(in_channels=64,out_channels=64,kernel_size=3,\n",
    "                                 stride=1,padding=2)\n",
    "        self.act_3 = nn.ReLU()\n",
    "        self.conv2_bn3 = nn.BatchNorm2d(64)\n",
    "        \n",
    "        self.max_1=nn.MaxPool2d(2,2)\n",
    "        \n",
    "        self.layer_4 = nn.Conv2d(in_channels=64,out_channels=128,kernel_size=3,\n",
    "                                 stride=1,padding=2)\n",
    "        self.act_4 = nn.ReLU()\n",
    "        self.conv2_bn4 = nn.BatchNorm2d(128)\n",
    "\n",
    "        self.layer_5 = nn.Conv2d(in_channels=128,out_channels=128,kernel_size=3,\n",
    "                                 stride=1,padding=2)\n",
    "        self.act_5 = nn.ReLU()\n",
    "        self.conv2_bn5 = nn.BatchNorm2d(128)\n",
    "        \n",
    "        self.layer_6 = nn.Conv2d(in_channels=128,out_channels=128,kernel_size=3,\n",
    "                                 stride=1,padding=2)\n",
    "        self.act_6 = nn.ReLU()\n",
    "        self.conv2_bn6 = nn.BatchNorm2d(128)\n",
    "        self.max_2=nn.MaxPool2d(2,2)\n",
    "        \n",
    "        self.layer_7 = nn.Conv2d(in_channels=128,out_channels=256,kernel_size=3,\n",
    "                                 stride=1,padding=2)\n",
    "        self.act_7 = nn.ReLU()\n",
    "        self.conv2_bn7 = nn.BatchNorm2d(256)\n",
    "        \n",
    "        self.layer_8 = nn.Conv2d(in_channels=256,out_channels=256,kernel_size=3,\n",
    "                                 stride=1,padding=2)\n",
    "        self.act_8 = nn.ReLU()\n",
    "        self.conv2_bn8 = nn.BatchNorm2d(256)\n",
    "        \n",
    "        self.layer_9 = nn.Conv2d(in_channels=256,out_channels=256,kernel_size=3,\n",
    "                                 stride=1,padding=2)\n",
    "        self.act_9 = nn.ReLU()\n",
    "        self.conv2_bn9 = nn.BatchNorm2d(256)\n",
    "        \n",
    "        self.max_3=nn.MaxPool2d(2,2)\n",
    "        \n",
    "        self.layer_10 = nn.Conv2d(in_channels=256,out_channels=512,kernel_size=3,\n",
    "                                 stride=1,padding=2)\n",
    "        self.act_10 = nn.ReLU()\n",
    "        self.conv2_bn10 = nn.BatchNorm2d(512)\n",
    "        \n",
    "        self.layer_11 = nn.Conv2d(in_channels=512,out_channels=512,kernel_size=3,\n",
    "                                 stride=1,padding=2)\n",
    "        self.act_11 = nn.ReLU()\n",
    "        self.conv2_bn11 = nn.BatchNorm2d(512)\n",
    "        \n",
    "        self.layer_12 = nn.Conv2d(in_channels=512,out_channels=512,kernel_size=3,\n",
    "                                 stride=1,padding=2)\n",
    "        self.act_12 = nn.ReLU()\n",
    "        self.conv2_bn12 = nn.BatchNorm2d(512)\n",
    "        \n",
    "        self.max_4=nn.MaxPool2d(2,2)\n",
    "        \n",
    "        self.layer_13 = nn.Conv2d(in_channels=512,out_channels=1024,kernel_size=3,\n",
    "                                 stride=1,padding=2)\n",
    "        self.act_13 = nn.ReLU()\n",
    "        self.conv2_bn13 = nn.BatchNorm2d(1024)\n",
    "        \n",
    "        self.layer_14 = nn.Conv2d(in_channels=1024,out_channels=1024,kernel_size=3,\n",
    "                                 stride=1,padding=2)\n",
    "        self.act_14 = nn.ReLU()\n",
    "        self.conv2_bn14 = nn.BatchNorm2d(1024)\n",
    "        \n",
    "        self.max_5=nn.MaxPool2d(2,2)\n",
    "        \n",
    "        self.layer_15 = nn.Conv2d(in_channels=1024,out_channels=1024,kernel_size=1,\n",
    "                                 stride=1)\n",
    "        self.act_15 = nn.ReLU()\n",
    "        self.conv2_bn15 = nn.BatchNorm2d(1024)\n",
    "        \n",
    "        self.layer_16 = nn.Conv2d(in_channels=1024,out_channels=1024,kernel_size=3,\n",
    "                                 stride=1,padding=2)\n",
    "        self.act_16 = nn.ReLU()\n",
    "        self.conv2_bn16 = nn.BatchNorm2d(1024)\n",
    "        \n",
    "        self.layer_17 = nn.Conv2d(in_channels=1024,out_channels=1024,kernel_size=1,\n",
    "                                 stride=1)\n",
    "        self.act_17 = nn.ReLU()\n",
    "        self.conv2_bn17 = nn.BatchNorm2d(1024)\n",
    "        \n",
    "        \n",
    "\n",
    "        \n",
    "        self.fc_layer_1 = nn.Linear(9*9*1024,1000)\n",
    "        self.act_18 = nn.ReLU()\n",
    "        \n",
    "        self.bnm1=nn.BatchNorm1d(1000)\n",
    "        \n",
    "        self.fc_layer_2 = nn.Linear(1000,1000)\n",
    "        self.act_19 = nn.ReLU()\n",
    "        \n",
    "        self.bnm2=nn.BatchNorm1d(1000)\n",
    "        \n",
    "        self.fc_layer_3 = nn.Linear(1000,100)\n",
    "        self.act_20 = nn.ReLU()\n",
    "        \n",
    "        self.bnm3=nn.BatchNorm1d(100)\n",
    "        \n",
    "        self.fc_layer_4 = nn.Linear(100,10)\n",
    "        self.act_21 = nn.ReLU()\n",
    "\n",
    "        \n",
    "        \n",
    "        \n",
    "\n",
    "    def forward(self, x):\n",
    "        x = x.view(batch_size//num_gpus,3,96,96)\n",
    "        out = self.layer_1(x)\n",
    "        out = self.act_1(out)\n",
    "        for module in list(self.modules())[2:-11]:\n",
    "            out = module(out)\n",
    "        out = out.view(batch_size//num_gpus,-1)\n",
    "        for module in list(self.modules())[-11:]:\n",
    "            out = module(out)\n",
    "        return out"
   ]
  },
  {
   "cell_type": "code",
   "execution_count": 16,
   "metadata": {},
   "outputs": [],
   "source": [
    "model=nn.DataParallel(Model().cuda())\n",
    "criterion = nn.CrossEntropyLoss()\n",
    "optimizer = torch.optim.Adam(model.parameters(),weight_decay=0.0001)"
   ]
  },
  {
   "cell_type": "code",
   "execution_count": 17,
   "metadata": {},
   "outputs": [
    {
     "name": "stdout",
     "output_type": "stream",
     "text": [
      "/home/jupyter-deeplearning/res_model\n"
     ]
    }
   ],
   "source": [
    "%cd /home/jupyter-deeplearning/res_model"
   ]
  },
  {
   "cell_type": "code",
   "execution_count": 18,
   "metadata": {},
   "outputs": [
    {
     "name": "stdout",
     "output_type": "stream",
     "text": [
      "2020/10/28 13:52:13\n",
      "epoch: 1/200 | trn loss: 2.1636 | val loss: 1.9726 | val accuracy: 26.6927% \n",
      "\n",
      "2020/10/28 13:52:27\n",
      "epoch: 2/200 | trn loss: 1.9039 | val loss: 1.8036 | val accuracy: 33.4635% \n",
      "\n",
      "2020/10/28 13:52:41\n",
      "epoch: 3/200 | trn loss: 1.7934 | val loss: 1.8390 | val accuracy: 30.5990% \n",
      "\n",
      "2020/10/28 13:52:55\n",
      "epoch: 4/200 | trn loss: 1.7437 | val loss: 1.7614 | val accuracy: 34.7656% \n",
      "\n",
      "2020/10/28 13:53:10\n",
      "epoch: 5/200 | trn loss: 1.7089 | val loss: 1.7078 | val accuracy: 36.1979% \n",
      "\n",
      "2020/10/28 13:53:24\n",
      "epoch: 6/200 | trn loss: 1.6565 | val loss: 1.7499 | val accuracy: 35.5469% \n",
      "\n",
      "2020/10/28 13:53:39\n",
      "epoch: 7/200 | trn loss: 1.6033 | val loss: 1.6400 | val accuracy: 39.0625% \n",
      "\n",
      "2020/10/28 13:53:53\n",
      "epoch: 8/200 | trn loss: 1.5592 | val loss: 1.6511 | val accuracy: 38.9323% \n",
      "\n",
      "2020/10/28 13:54:07\n",
      "epoch: 9/200 | trn loss: 1.5211 | val loss: 1.6312 | val accuracy: 39.8438% \n",
      "\n",
      "2020/10/28 13:54:22\n",
      "epoch: 10/200 | trn loss: 1.4736 | val loss: 1.6578 | val accuracy: 39.5833% \n",
      "\n",
      "2020/10/28 13:54:36\n",
      "epoch: 11/200 | trn loss: 1.4780 | val loss: 1.6836 | val accuracy: 40.4948% \n",
      "\n",
      "Model replaced and saved as  Custom_model_minloss_1.684\n",
      "2020/10/28 13:54:52\n",
      "epoch: 12/200 | trn loss: 1.4331 | val loss: 1.6100 | val accuracy: 41.1458% \n",
      "\n",
      "Model replaced and saved as  Custom_model_minloss_1.610\n",
      "2020/10/28 13:55:08\n",
      "epoch: 13/200 | trn loss: 1.4079 | val loss: 1.6383 | val accuracy: 42.1875% \n",
      "\n",
      "2020/10/28 13:55:23\n",
      "epoch: 14/200 | trn loss: 1.3643 | val loss: 1.5978 | val accuracy: 41.7969% \n",
      "\n",
      "Model replaced and saved as  Custom_model_minloss_1.598\n",
      "2020/10/28 13:55:39\n",
      "epoch: 15/200 | trn loss: 1.3466 | val loss: 1.5869 | val accuracy: 41.0156% \n",
      "\n",
      "Model replaced and saved as  Custom_model_minloss_1.587\n",
      "2020/10/28 13:55:55\n",
      "epoch: 16/200 | trn loss: 1.2997 | val loss: 1.6325 | val accuracy: 40.4948% \n",
      "\n",
      "2020/10/28 13:56:10\n",
      "epoch: 17/200 | trn loss: 1.3565 | val loss: 1.6254 | val accuracy: 40.3646% \n",
      "\n",
      "2020/10/28 13:56:24\n",
      "epoch: 18/200 | trn loss: 1.2993 | val loss: 1.6292 | val accuracy: 40.6250% \n",
      "\n",
      "2020/10/28 13:56:39\n",
      "epoch: 19/200 | trn loss: 1.2479 | val loss: 1.6419 | val accuracy: 42.0573% \n",
      "\n",
      "2020/10/28 13:56:54\n",
      "epoch: 20/200 | trn loss: 1.1993 | val loss: 1.6431 | val accuracy: 41.6667% \n",
      "\n",
      "2020/10/28 13:57:08\n",
      "epoch: 21/200 | trn loss: 1.1397 | val loss: 1.6778 | val accuracy: 44.0104% \n",
      "\n",
      "Early stop!\n"
     ]
    }
   ],
   "source": [
    "trn_loss_list = []\n",
    "val_loss_list = []\n",
    "val_acc_list = []\n",
    "total_epoch=200\n",
    "model_char=\"minloss\"\n",
    "model_name=\"\"\n",
    "patience=5\n",
    "start_early_stop_check=0\n",
    "saving_start_epoch=10\n",
    "\n",
    "for epoch in range(total_epoch):\n",
    "    trn_loss = 0.0\n",
    "    for i, data in enumerate(train_loader, 0):\n",
    "        inputs, labels = data\n",
    "        if torch.cuda.is_available():\n",
    "            inputs=inputs.cuda()\n",
    "            labels=labels.cuda()\n",
    "        # grad init\n",
    "        optimizer.zero_grad()\n",
    "        # forward propagation\n",
    "        output= model(inputs)\n",
    "        # calculate loss\n",
    "        loss=criterion(output, labels)\n",
    "        # back propagation \n",
    "        loss.backward()\n",
    "        # weight update\n",
    "        optimizer.step()\n",
    "        \n",
    "        # trn_loss summary\n",
    "        trn_loss += loss.item()\n",
    "        # del (memory issue)\n",
    "        del loss\n",
    "        del output\n",
    "    with torch.no_grad():\n",
    "        val_loss = 0.0\n",
    "        cor_match = 0\n",
    "        for j, val in enumerate(test_loader):\n",
    "            val_x, val_label = val\n",
    "            if torch.cuda.is_available():\n",
    "                val_x = val_x.cuda()\n",
    "                val_label =val_label.cuda()\n",
    "            val_output = model(val_x)\n",
    "            v_loss = criterion(val_output, val_label)\n",
    "            val_loss += v_loss\n",
    "            _, predicted=torch.max(val_output,1)\n",
    "            cor_match+=np.count_nonzero(predicted.cpu().detach()==val_label.cpu().detach())\n",
    "    del val_output\n",
    "    del v_loss\n",
    "    del predicted\n",
    "    \n",
    "    \n",
    "    \n",
    "    trn_loss_list.append(trn_loss/len(train_loader))\n",
    "    val_loss_list.append(val_loss/len(test_loader))\n",
    "    val_acc=cor_match/(len(test_loader)*batch_size)\n",
    "    val_acc_list.append(val_acc)\n",
    "    now = time.localtime()\n",
    "    print (\"%04d/%02d/%02d %02d:%02d:%02d\" % (now.tm_year, now.tm_mon, now.tm_mday, now.tm_hour, now.tm_min, now.tm_sec))\n",
    "\n",
    "    print(\"epoch: {}/{} | trn loss: {:.4f} | val loss: {:.4f} | val accuracy: {:.4f}% \\n\".format(\n",
    "                epoch+1, total_epoch, trn_loss / len(train_loader), val_loss / len(test_loader), val_acc*100\n",
    "            ))\n",
    "    \n",
    "    \n",
    "    if epoch+1>2:\n",
    "        if val_loss_list[-1]>val_loss_list[-2]:\n",
    "            start_early_stop_check=1\n",
    "    else:\n",
    "        val_loss_min=val_loss_list[-1]\n",
    "        \n",
    "    if start_early_stop_check:\n",
    "        early_stop_temp=val_loss_list[-patience:]\n",
    "        if all(early_stop_temp[i]<early_stop_temp[i+1] for i in range (len(early_stop_temp)-1)):\n",
    "            print(\"Early stop!\")\n",
    "            break\n",
    "            \n",
    "    if epoch+1>saving_start_epoch:\n",
    "        if val_loss_list[-1]<val_loss_min:\n",
    "            if os.path.isfile(model_name):\n",
    "                os.remove(model_name)\n",
    "            val_loss_min=val_loss_list[-1]\n",
    "            model_name=\"Custom_model_\"+model_char+\"_{:.3f}\".format(val_loss_min)\n",
    "            torch.save(model, model_name)\n",
    "            print(\"Model replaced and saved as \",model_name)"
   ]
  },
  {
   "cell_type": "code",
   "execution_count": 19,
   "metadata": {},
   "outputs": [
    {
     "data": {
      "image/png": "[encoded data removed]",
      "text/plain": [
       "<Figure size 1080x1080 with 1 Axes>"
      ]
     },
     "metadata": {
      "needs_background": "light"
     },
     "output_type": "display_data"
    }
   ],
   "source": [
    "plt.figure(figsize=(15,15))\n",
    "plt.ylabel(\"val_accuracy\")\n",
    "plt.xlabel(\"epoch\")\n",
    "plt.plot(val_acc_list)\n",
    "plt.grid()"
   ]
  },
  {
   "cell_type": "code",
   "execution_count": 20,
   "metadata": {},
   "outputs": [],
   "source": [
    "val_acc_list=np.array(val_acc_list)\n",
    "np.savetxt(\"ver_1.0.txt\", val_acc_list, delimiter=',')"
   ]
  }
 ],
 "metadata": {
  "kernelspec": {
   "display_name": "Python 3",
   "language": "python",
   "name": "python3"
  },
  "language_info": {
   "codemirror_mode": {
    "name": "ipython",
    "version": 3
   },
   "file_extension": ".py",
   "mimetype": "text/x-python",
   "name": "python",
   "nbconvert_exporter": "python",
   "pygments_lexer": "ipython3",
   "version": "3.7.3"
  }
 },
 "nbformat": 4,
 "nbformat_minor": 4
}
